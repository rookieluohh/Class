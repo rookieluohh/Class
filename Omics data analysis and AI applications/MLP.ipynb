{
 "cells": [
  {
   "cell_type": "code",
   "execution_count": 1,
   "id": "c21dc5f4-16dd-476d-94ac-0dd3e0914d84",
   "metadata": {},
   "outputs": [],
   "source": [
    "import torch\n",
    "import torch.nn as nn\n",
    "import torch.optim as optim\n",
    "from torchvision import datasets, transforms\n",
    "from torch.utils.data import DataLoader, random_split\n",
    "from sklearn.metrics import accuracy_score\n",
    "import numpy as np\n",
    "import matplotlib.pyplot as plt"
   ]
  },
  {
   "cell_type": "code",
   "execution_count": 26,
   "id": "8032919c-0bbd-4798-b339-2bb0a5b90cf1",
   "metadata": {},
   "outputs": [],
   "source": [
    "# 设定随机种子以确保结果可复现\n",
    "torch.manual_seed(42)\n",
    "\n",
    "# 超参数范围\n",
    "# hidden_layers = [2, 3, 4]\n",
    "hidden_layers = [4]\n",
    "# learning_rates = [0.01, 0.0001, 0.00001]\n",
    "learning_rates = [0.0001]\n",
    "# epochs_range = range(1, 11)\n",
    "epochs_range = [9]\n",
    "batch_sizes = [16, 32, 64, 128]\n",
    "# batch_sizes = [ 64]\n",
    "\n",
    "# 用于存储结果\n",
    "results = {}\n",
    "best_accuracy = 0\n",
    "best_params = None"
   ]
  },
  {
   "cell_type": "code",
   "execution_count": 9,
   "id": "5c1380e6-3801-4463-9a5c-90163fc986bc",
   "metadata": {},
   "outputs": [],
   "source": [
    "# 加载 MNIST 数据集\n",
    "transform = transforms.Compose([\n",
    "    transforms.RandomRotation(degrees=20),            # 随机旋转图像，范围是 [-20度, 20度]\n",
    "    transforms.RandomHorizontalFlip(p=0.5),           # 50%的概率水平翻转图像\n",
    "    transforms.RandomAffine(degrees=0, translate=(0.1, 0.1)),  # 随机平移，最大平移10%\n",
    "    transforms.ToTensor(),\n",
    "    transforms.Normalize((0.5,), (0.5,))              # 标准化\n",
    "])\n",
    "\n",
    "# train_dataset = datasets.MNIST(root='/public/group_data_2023/luohh/Class/01.OmicsAndAI/01.Materials/homework/data', train=True, \n",
    "#                                            transform=transform, download=True)\n",
    "# test_dataset = datasets.MNIST(root='/public/group_data_2023/luohh/Class/01.OmicsAndAI/01.Materials/homework/data', train=False, \n",
    "#                                           transform=transform, download=True)\n",
    "\n",
    "dataset = datasets.MNIST(root='/public/group_data_2023/luohh/Class/01.OmicsAndAI/01.Materials/homework/data', train=True, download=True, \n",
    "                         transform=transform)\n",
    "train_size = int(0.8 * len(dataset))\n",
    "test_size = len(dataset) - train_size\n",
    "train_dataset, validation_dataset = random_split(dataset, [train_size, test_size])\n",
    "test_dataset = datasets.MNIST(root='/public/group_data_2023/luohh/Class/01.OmicsAndAI/01.Materials/homework/data', train=False, download=True, \n",
    "                              transform=transform)"
   ]
  },
  {
   "cell_type": "code",
   "execution_count": 20,
   "id": "8b3604e6-db02-4576-9859-8f2618c97c33",
   "metadata": {},
   "outputs": [],
   "source": [
    "# 定义 MLP 模型\n",
    "class MLP(nn.Module):\n",
    "    def __init__(self, input_size, hidden_layers):\n",
    "        super(MLP, self).__init__()\n",
    "        layers = []\n",
    "        layers.append(nn.Flatten())\n",
    "        layers.append(nn.Linear(input_size, 128))  # 输入层\n",
    "\n",
    "        for _ in range(hidden_layers - 1):  # 添加指定数量的隐藏层\n",
    "            layers.append(nn.ReLU())\n",
    "            layers.append(nn.Linear(128, 128))  # 隐藏层\n",
    "\n",
    "        layers.append(nn.ReLU())\n",
    "        layers.append(nn.Linear(128, 10))  # 输出层\n",
    "        layers.append(nn.LogSoftmax(dim=1))\n",
    "        self.model = nn.Sequential(*layers)\n",
    "\n",
    "    def forward(self, x):\n",
    "        return self.model(x)"
   ]
  },
  {
   "cell_type": "code",
   "execution_count": 25,
   "id": "dea2d3ee-5d29-41cb-91e2-fcfcb9ed24c7",
   "metadata": {},
   "outputs": [
    {
     "name": "stdout",
     "output_type": "stream",
     "text": [
      "Parameters: (4, 0.0001, 5, 16), Accuracy: 0.8203333333333334\n",
      "Parameters: (4, 0.0001, 5, 32), Accuracy: 0.786\n",
      "Parameters: (4, 0.0001, 5, 64), Accuracy: 0.7715\n",
      "Parameters: (4, 0.0001, 5, 128), Accuracy: 0.7255\n"
     ]
    }
   ],
   "source": [
    "# 遍历超参数\n",
    "for hidden_layer in hidden_layers:\n",
    "    for lr in learning_rates:\n",
    "        for epochs in epochs_range:\n",
    "            for batch_size in batch_sizes:\n",
    "                # 创建数据加载器\n",
    "                train_loader = DataLoader(train_dataset, batch_size=batch_size, shuffle=True)\n",
    "                validation_loader = DataLoader(validation_dataset, batch_size=batch_size, shuffle=False)\n",
    "\n",
    "                model = MLP(28 * 28, hidden_layer)  # 输入特征为 28 * 28\n",
    "                criterion = nn.NLLLoss()\n",
    "                optimizer = optim.Adam(model.parameters(), lr=lr)\n",
    "\n",
    "                # 训练模型\n",
    "                model.train()\n",
    "                for epoch in range(epochs):\n",
    "                    for images, labels in train_loader:\n",
    "                        optimizer.zero_grad()\n",
    "                        output = model(images)\n",
    "                        loss = criterion(output, labels)\n",
    "                        loss.backward()\n",
    "                        optimizer.step()\n",
    "\n",
    "                # 评估模型\n",
    "                model.eval()\n",
    "                y_true, y_pred = [], []\n",
    "                with torch.no_grad():\n",
    "                    for images, labels in validation_loader:\n",
    "                        output = model(images)\n",
    "                        preds = torch.argmax(output, dim=1)\n",
    "                        y_true.extend(labels.numpy())\n",
    "                        y_pred.extend(preds.numpy())\n",
    "\n",
    "                accuracy = accuracy_score(y_true, y_pred)\n",
    "\n",
    "                # 记录结果\n",
    "                params = (hidden_layer, lr, epochs, batch_size)\n",
    "                results[params] = accuracy\n",
    "                if accuracy > best_accuracy:\n",
    "                    best_accuracy = accuracy\n",
    "                    best_params = params\n",
    "\n",
    "                print(f\"Parameters: {params}, Accuracy: {accuracy}\")"
   ]
  }
 ],
 "metadata": {
  "kernelspec": {
   "display_name": "Python 3 (ipykernel)",
   "language": "python",
   "name": "python3"
  },
  "language_info": {
   "codemirror_mode": {
    "name": "ipython",
    "version": 3
   },
   "file_extension": ".py",
   "mimetype": "text/x-python",
   "name": "python",
   "nbconvert_exporter": "python",
   "pygments_lexer": "ipython3",
   "version": "3.12.6"
  }
 },
 "nbformat": 4,
 "nbformat_minor": 5
}
